{
  "nbformat": 4,
  "nbformat_minor": 0,
  "metadata": {
    "colab": {
      "provenance": [],
      "authorship_tag": "ABX9TyN+AZiVDi8zyZ1AtRyFExbJ",
      "include_colab_link": true
    },
    "kernelspec": {
      "name": "python3",
      "display_name": "Python 3"
    },
    "language_info": {
      "name": "python"
    }
  },
  "cells": [
    {
      "cell_type": "markdown",
      "metadata": {
        "id": "view-in-github",
        "colab_type": "text"
      },
      "source": [
        "<a href=\"https://colab.research.google.com/github/rachitss/Transfer_Learning_Prac/blob/main/Transfer_Learning.ipynb\" target=\"_parent\"><img src=\"https://colab.research.google.com/assets/colab-badge.svg\" alt=\"Open In Colab\"/></a>"
      ]
    },
    {
      "cell_type": "code",
      "execution_count": 15,
      "metadata": {
        "id": "BodedZDovnG7",
        "outputId": "f057a144-417a-476a-9600-b1b57df73b25",
        "colab": {
          "base_uri": "https://localhost:8080/"
        }
      },
      "outputs": [
        {
          "output_type": "stream",
          "name": "stdout",
          "text": [
            "Dataset URL: https://www.kaggle.com/datasets/salader/dogs-vs-cats\n",
            "License(s): unknown\n",
            "dogs-vs-cats.zip: Skipping, found more recently modified local copy (use --force to force download)\n"
          ]
        }
      ],
      "source": [
        "!kaggle datasets download -d salader/dogs-vs-cats"
      ]
    },
    {
      "cell_type": "code",
      "source": [
        "import zipfile\n",
        "zip_ref = zipfile.ZipFile('/content/dogs-vs-cats.zip', 'r')\n",
        "zip_ref.extractall('/content')\n",
        "zip_ref.close()"
      ],
      "metadata": {
        "id": "v9bqolnIG7oz"
      },
      "execution_count": 16,
      "outputs": []
    },
    {
      "cell_type": "code",
      "source": [
        "import torch\n",
        "import torchvision.models as models\n",
        "conv_base = models.vgg16(weights=\"IMAGENET1K_V1\").features"
      ],
      "metadata": {
        "id": "jC6s7cL68iFz"
      },
      "execution_count": 34,
      "outputs": []
    },
    {
      "cell_type": "code",
      "source": [
        "!pip install torchinfo"
      ],
      "metadata": {
        "id": "WA7v6CR6HoBl",
        "outputId": "dd26f8d7-90cb-4728-e0f5-c479e461374a",
        "colab": {
          "base_uri": "https://localhost:8080/"
        }
      },
      "execution_count": 40,
      "outputs": [
        {
          "output_type": "stream",
          "name": "stdout",
          "text": [
            "Requirement already satisfied: torchinfo in /usr/local/lib/python3.11/dist-packages (1.8.0)\n"
          ]
        }
      ]
    },
    {
      "cell_type": "code",
      "source": [
        "import torchinfo\n",
        "from torchinfo import summary\n",
        "summary(conv_base,input_size=(1,3,150,150))"
      ],
      "metadata": {
        "id": "MuGgFvqMGinG",
        "outputId": "eddfc1d2-5e07-47c2-d905-c40372d04862",
        "colab": {
          "base_uri": "https://localhost:8080/"
        }
      },
      "execution_count": 60,
      "outputs": [
        {
          "output_type": "execute_result",
          "data": {
            "text/plain": [
              "==========================================================================================\n",
              "Layer (type:depth-idx)                   Output Shape              Param #\n",
              "==========================================================================================\n",
              "Sequential                               [1, 512, 4, 4]            --\n",
              "├─Conv2d: 1-1                            [1, 64, 150, 150]         1,792\n",
              "├─ReLU: 1-2                              [1, 64, 150, 150]         --\n",
              "├─Conv2d: 1-3                            [1, 64, 150, 150]         36,928\n",
              "├─ReLU: 1-4                              [1, 64, 150, 150]         --\n",
              "├─MaxPool2d: 1-5                         [1, 64, 75, 75]           --\n",
              "├─Conv2d: 1-6                            [1, 128, 75, 75]          73,856\n",
              "├─ReLU: 1-7                              [1, 128, 75, 75]          --\n",
              "├─Conv2d: 1-8                            [1, 128, 75, 75]          147,584\n",
              "├─ReLU: 1-9                              [1, 128, 75, 75]          --\n",
              "├─MaxPool2d: 1-10                        [1, 128, 37, 37]          --\n",
              "├─Conv2d: 1-11                           [1, 256, 37, 37]          295,168\n",
              "├─ReLU: 1-12                             [1, 256, 37, 37]          --\n",
              "├─Conv2d: 1-13                           [1, 256, 37, 37]          590,080\n",
              "├─ReLU: 1-14                             [1, 256, 37, 37]          --\n",
              "├─Conv2d: 1-15                           [1, 256, 37, 37]          590,080\n",
              "├─ReLU: 1-16                             [1, 256, 37, 37]          --\n",
              "├─MaxPool2d: 1-17                        [1, 256, 18, 18]          --\n",
              "├─Conv2d: 1-18                           [1, 512, 18, 18]          1,180,160\n",
              "├─ReLU: 1-19                             [1, 512, 18, 18]          --\n",
              "├─Conv2d: 1-20                           [1, 512, 18, 18]          2,359,808\n",
              "├─ReLU: 1-21                             [1, 512, 18, 18]          --\n",
              "├─Conv2d: 1-22                           [1, 512, 18, 18]          2,359,808\n",
              "├─ReLU: 1-23                             [1, 512, 18, 18]          --\n",
              "├─MaxPool2d: 1-24                        [1, 512, 9, 9]            --\n",
              "├─Conv2d: 1-25                           [1, 512, 9, 9]            2,359,808\n",
              "├─ReLU: 1-26                             [1, 512, 9, 9]            --\n",
              "├─Conv2d: 1-27                           [1, 512, 9, 9]            2,359,808\n",
              "├─ReLU: 1-28                             [1, 512, 9, 9]            --\n",
              "├─Conv2d: 1-29                           [1, 512, 9, 9]            2,359,808\n",
              "├─ReLU: 1-30                             [1, 512, 9, 9]            --\n",
              "├─MaxPool2d: 1-31                        [1, 512, 4, 4]            --\n",
              "==========================================================================================\n",
              "Total params: 14,714,688\n",
              "Trainable params: 14,714,688\n",
              "Non-trainable params: 0\n",
              "Total mult-adds (Units.GIGABYTES): 6.62\n",
              "==========================================================================================\n",
              "Input size (MB): 0.27\n",
              "Forward/backward pass size (MB): 47.95\n",
              "Params size (MB): 58.86\n",
              "Estimated Total Size (MB): 107.08\n",
              "=========================================================================================="
            ]
          },
          "metadata": {},
          "execution_count": 60
        }
      ]
    },
    {
      "cell_type": "code",
      "source": [
        "import torch.nn as nn"
      ],
      "metadata": {
        "id": "G1LZMVd8Ko4o"
      },
      "execution_count": 61,
      "outputs": []
    },
    {
      "cell_type": "code",
      "source": [
        "model=nn.Sequential(conv_base,nn.Flatten(),nn.Linear(8192,256),nn.ReLU(),nn.Linear(256,1),nn.Sigmoid())\n",
        "summary(model,input_size=(1,3,150,150))\n",
        "#print(model)"
      ],
      "metadata": {
        "colab": {
          "base_uri": "https://localhost:8080/"
        },
        "id": "UGvrsymoH4qg",
        "outputId": "3a4a9b80-7e87-4751-dfba-0b7275cdde7d"
      },
      "execution_count": 62,
      "outputs": [
        {
          "output_type": "execute_result",
          "data": {
            "text/plain": [
              "==========================================================================================\n",
              "Layer (type:depth-idx)                   Output Shape              Param #\n",
              "==========================================================================================\n",
              "Sequential                               [1, 1]                    --\n",
              "├─Sequential: 1-1                        [1, 512, 4, 4]            --\n",
              "│    └─Conv2d: 2-1                       [1, 64, 150, 150]         1,792\n",
              "│    └─ReLU: 2-2                         [1, 64, 150, 150]         --\n",
              "│    └─Conv2d: 2-3                       [1, 64, 150, 150]         36,928\n",
              "│    └─ReLU: 2-4                         [1, 64, 150, 150]         --\n",
              "│    └─MaxPool2d: 2-5                    [1, 64, 75, 75]           --\n",
              "│    └─Conv2d: 2-6                       [1, 128, 75, 75]          73,856\n",
              "│    └─ReLU: 2-7                         [1, 128, 75, 75]          --\n",
              "│    └─Conv2d: 2-8                       [1, 128, 75, 75]          147,584\n",
              "│    └─ReLU: 2-9                         [1, 128, 75, 75]          --\n",
              "│    └─MaxPool2d: 2-10                   [1, 128, 37, 37]          --\n",
              "│    └─Conv2d: 2-11                      [1, 256, 37, 37]          295,168\n",
              "│    └─ReLU: 2-12                        [1, 256, 37, 37]          --\n",
              "│    └─Conv2d: 2-13                      [1, 256, 37, 37]          590,080\n",
              "│    └─ReLU: 2-14                        [1, 256, 37, 37]          --\n",
              "│    └─Conv2d: 2-15                      [1, 256, 37, 37]          590,080\n",
              "│    └─ReLU: 2-16                        [1, 256, 37, 37]          --\n",
              "│    └─MaxPool2d: 2-17                   [1, 256, 18, 18]          --\n",
              "│    └─Conv2d: 2-18                      [1, 512, 18, 18]          1,180,160\n",
              "│    └─ReLU: 2-19                        [1, 512, 18, 18]          --\n",
              "│    └─Conv2d: 2-20                      [1, 512, 18, 18]          2,359,808\n",
              "│    └─ReLU: 2-21                        [1, 512, 18, 18]          --\n",
              "│    └─Conv2d: 2-22                      [1, 512, 18, 18]          2,359,808\n",
              "│    └─ReLU: 2-23                        [1, 512, 18, 18]          --\n",
              "│    └─MaxPool2d: 2-24                   [1, 512, 9, 9]            --\n",
              "│    └─Conv2d: 2-25                      [1, 512, 9, 9]            2,359,808\n",
              "│    └─ReLU: 2-26                        [1, 512, 9, 9]            --\n",
              "│    └─Conv2d: 2-27                      [1, 512, 9, 9]            2,359,808\n",
              "│    └─ReLU: 2-28                        [1, 512, 9, 9]            --\n",
              "│    └─Conv2d: 2-29                      [1, 512, 9, 9]            2,359,808\n",
              "│    └─ReLU: 2-30                        [1, 512, 9, 9]            --\n",
              "│    └─MaxPool2d: 2-31                   [1, 512, 4, 4]            --\n",
              "├─Flatten: 1-2                           [1, 8192]                 --\n",
              "├─Linear: 1-3                            [1, 256]                  2,097,408\n",
              "├─ReLU: 1-4                              [1, 256]                  --\n",
              "├─Linear: 1-5                            [1, 1]                    257\n",
              "├─Sigmoid: 1-6                           [1, 1]                    --\n",
              "==========================================================================================\n",
              "Total params: 16,812,353\n",
              "Trainable params: 16,812,353\n",
              "Non-trainable params: 0\n",
              "Total mult-adds (Units.GIGABYTES): 6.62\n",
              "==========================================================================================\n",
              "Input size (MB): 0.27\n",
              "Forward/backward pass size (MB): 47.95\n",
              "Params size (MB): 67.25\n",
              "Estimated Total Size (MB): 115.47\n",
              "=========================================================================================="
            ]
          },
          "metadata": {},
          "execution_count": 62
        }
      ]
    },
    {
      "cell_type": "code",
      "source": [
        "conv_base.requires_grad_(False)"
      ],
      "metadata": {
        "id": "37gNbwnRNQ65",
        "outputId": "17b891c9-82f2-415e-fb85-b02a706ed7a5",
        "colab": {
          "base_uri": "https://localhost:8080/"
        }
      },
      "execution_count": 63,
      "outputs": [
        {
          "output_type": "execute_result",
          "data": {
            "text/plain": [
              "Sequential(\n",
              "  (0): Conv2d(3, 64, kernel_size=(3, 3), stride=(1, 1), padding=(1, 1))\n",
              "  (1): ReLU(inplace=True)\n",
              "  (2): Conv2d(64, 64, kernel_size=(3, 3), stride=(1, 1), padding=(1, 1))\n",
              "  (3): ReLU(inplace=True)\n",
              "  (4): MaxPool2d(kernel_size=2, stride=2, padding=0, dilation=1, ceil_mode=False)\n",
              "  (5): Conv2d(64, 128, kernel_size=(3, 3), stride=(1, 1), padding=(1, 1))\n",
              "  (6): ReLU(inplace=True)\n",
              "  (7): Conv2d(128, 128, kernel_size=(3, 3), stride=(1, 1), padding=(1, 1))\n",
              "  (8): ReLU(inplace=True)\n",
              "  (9): MaxPool2d(kernel_size=2, stride=2, padding=0, dilation=1, ceil_mode=False)\n",
              "  (10): Conv2d(128, 256, kernel_size=(3, 3), stride=(1, 1), padding=(1, 1))\n",
              "  (11): ReLU(inplace=True)\n",
              "  (12): Conv2d(256, 256, kernel_size=(3, 3), stride=(1, 1), padding=(1, 1))\n",
              "  (13): ReLU(inplace=True)\n",
              "  (14): Conv2d(256, 256, kernel_size=(3, 3), stride=(1, 1), padding=(1, 1))\n",
              "  (15): ReLU(inplace=True)\n",
              "  (16): MaxPool2d(kernel_size=2, stride=2, padding=0, dilation=1, ceil_mode=False)\n",
              "  (17): Conv2d(256, 512, kernel_size=(3, 3), stride=(1, 1), padding=(1, 1))\n",
              "  (18): ReLU(inplace=True)\n",
              "  (19): Conv2d(512, 512, kernel_size=(3, 3), stride=(1, 1), padding=(1, 1))\n",
              "  (20): ReLU(inplace=True)\n",
              "  (21): Conv2d(512, 512, kernel_size=(3, 3), stride=(1, 1), padding=(1, 1))\n",
              "  (22): ReLU(inplace=True)\n",
              "  (23): MaxPool2d(kernel_size=2, stride=2, padding=0, dilation=1, ceil_mode=False)\n",
              "  (24): Conv2d(512, 512, kernel_size=(3, 3), stride=(1, 1), padding=(1, 1))\n",
              "  (25): ReLU(inplace=True)\n",
              "  (26): Conv2d(512, 512, kernel_size=(3, 3), stride=(1, 1), padding=(1, 1))\n",
              "  (27): ReLU(inplace=True)\n",
              "  (28): Conv2d(512, 512, kernel_size=(3, 3), stride=(1, 1), padding=(1, 1))\n",
              "  (29): ReLU(inplace=True)\n",
              "  (30): MaxPool2d(kernel_size=2, stride=2, padding=0, dilation=1, ceil_mode=False)\n",
              ")"
            ]
          },
          "metadata": {},
          "execution_count": 63
        }
      ]
    },
    {
      "cell_type": "code",
      "source": [],
      "metadata": {
        "id": "niXq1-o5Nwj4"
      },
      "execution_count": null,
      "outputs": []
    }
  ]
}